{
 "cells": [
  {
   "cell_type": "code",
   "execution_count": 11,
   "metadata": {
    "collapsed": true
   },
   "outputs": [],
   "source": [
    "import sys\n",
    "sys.path = ['', '/Applications/Spyder-Py2.app/Contents/Resources', '/Applications/Spyder-Py2.app/Contents/Resources/lib/python27.zip', '/Applications/Spyder-Py2.app/Contents/Resources/lib/python2.7', '/Applications/Spyder-Py2.app/Contents/Resources/lib/python2.7/plat-darwin', '/Applications/Spyder-Py2.app/Contents/Resources/lib/python2.7/plat-mac', '/Applications/Spyder-Py2.app/Contents/Resources/lib/python2.7/plat-mac/lib-scriptpackages', '/Applications/Spyder-Py2.app/Contents/Resources/lib/python2.7/lib-tk', '/Applications/Spyder-Py2.app/Contents/Resources/lib/python2.7/lib-old', '/Applications/Spyder-Py2.app/Contents/Resources/lib/python2.7/lib-dynload', '/Applications/Spyder-Py2.app/Contents/Resources/lib/python2.7/site-packages.zip', '/Applications/Spyder-Py2.app/Contents/Resources/lib/python2.7/site-packages', '/Library/Python/2.7/site-packages/']"
   ]
  },
  {
   "cell_type": "markdown",
   "metadata": {},
   "source": [
    "## E.G.1 Gaussian HMM of stock data"
   ]
  },
  {
   "cell_type": "code",
   "execution_count": 21,
   "metadata": {
    "collapsed": true
   },
   "outputs": [],
   "source": [
    "from __future__ import print_function"
   ]
  },
  {
   "cell_type": "code",
   "execution_count": 44,
   "metadata": {
    "collapsed": false
   },
   "outputs": [],
   "source": [
    "import datetime\n",
    "\n",
    "import numpy as np\n",
    "from matplotlib import cm, pyplot as plt\n",
    "from matplotlib.dates import YearLocator, MonthLocator\n",
    "try:\n",
    "    from matplotlib.finance import quotes_historical_yahoo_ochl\n",
    "except ImportError:\n",
    "    # For Matplotlib prior to 1.5.\n",
    "    from matplotlib.finance import (\n",
    "        quotes_historical_yahoo as quotes_historical_yahoo_ochl\n",
    "    )\n",
    "\n",
    "from hmmlearn.hmm import GaussianHMM"
   ]
  },
  {
   "cell_type": "markdown",
   "metadata": {},
   "source": [
    "### Get quotes from Yahoo! finance"
   ]
  },
  {
   "cell_type": "code",
   "execution_count": 58,
   "metadata": {
    "collapsed": true
   },
   "outputs": [],
   "source": [
    "quotes = quotes_historical_yahoo_ochl(\n",
    "    \"INTC\", datetime.date(1995, 1, 1), datetime.date(2012, 1, 6))\n",
    "\n",
    "# Unpack quotes\n",
    "dates = np.array([q[0] for q in quotes], dtype=int)\n",
    "close_v = np.array([q[2] for q in quotes])\n",
    "volume = np.array([q[5] for q in quotes])[1:]\n",
    "\n",
    "# Take diff of close value. Note that this makes\n",
    "# ``len(diff) = len(close_t) - 1``, therefore, other quantities also\n",
    "# need to be shifted by 1.\n",
    "diff = np.diff(close_v)\n",
    "dates = dates[1:]\n",
    "close_v = close_v[1:]\n",
    "\n",
    "# Pack diff and volume for training.\n",
    "X = np.column_stack([diff, volume])"
   ]
  },
  {
   "cell_type": "code",
   "execution_count": 59,
   "metadata": {
    "collapsed": false,
    "scrolled": true
   },
   "outputs": [
    {
     "name": "stdout",
     "output_type": "stream",
     "text": [
      "(4285,)\n",
      "(4285,)\n",
      "(4285,)\n",
      "(4285, 2)\n",
      "X is the observation sequence that is made of two variables, diff and volume\n"
     ]
    }
   ],
   "source": [
    "print (diff.shape)\n",
    "print (dates.shape)\n",
    "print (close_v.shape)\n",
    "print (X.shape)\n",
    "print ('X is the observation sequence that is made of two variables, diff and volume')"
   ]
  },
  {
   "cell_type": "code",
   "execution_count": 60,
   "metadata": {
    "collapsed": false
   },
   "outputs": [
    {
     "data": {
      "text/plain": [
       "array([[ -5.34500000e-03,   4.18656000e+07],\n",
       "       [  2.13800000e-02,   6.04800000e+07],\n",
       "       [  3.74160000e-02,   5.63168000e+07],\n",
       "       ..., \n",
       "       [  4.79110000e-01,   4.75040000e+07],\n",
       "       [  2.43757000e-01,   4.94906000e+07],\n",
       "       [ -1.26081000e-01,   3.63435000e+07]])"
      ]
     },
     "execution_count": 60,
     "metadata": {},
     "output_type": "execute_result"
    }
   ],
   "source": [
    "X"
   ]
  },
  {
   "cell_type": "markdown",
   "metadata": {},
   "source": [
    "### Fit an Gaussian HMM given the observed sequence of two variables"
   ]
  },
  {
   "cell_type": "code",
   "execution_count": 61,
   "metadata": {
    "collapsed": false
   },
   "outputs": [
    {
     "name": "stdout",
     "output_type": "stream",
     "text": [
      "fitting to HMM and decoding ...done\n"
     ]
    }
   ],
   "source": [
    "print(\"fitting to HMM and decoding ...\", end=\"\")\n",
    "\n",
    "# Make an HMM instance and execute fit\n",
    "# n_components = Number of states\n",
    "# n_iter = Maximum number of iterations to perform when fitting using Expectation Maximization\n",
    "model = GaussianHMM(n_components=4, covariance_type=\"diag\", n_iter=1000).fit(X)\n",
    "\n",
    "# Predict the optimal sequence of internal hidden state\n",
    "hidden_states = model.predict(X)\n",
    "\n",
    "print(\"done\")"
   ]
  },
  {
   "cell_type": "code",
   "execution_count": 53,
   "metadata": {
    "collapsed": false
   },
   "outputs": [
    {
     "data": {
      "text/plain": [
       "(4285,)"
      ]
     },
     "execution_count": 53,
     "metadata": {},
     "output_type": "execute_result"
    }
   ],
   "source": [
    "hidden_states.shape"
   ]
  },
  {
   "cell_type": "code",
   "execution_count": 73,
   "metadata": {
    "collapsed": false
   },
   "outputs": [
    {
     "data": {
      "text/plain": [
       "array([2, 2, 2, ..., 1, 1, 1])"
      ]
     },
     "execution_count": 73,
     "metadata": {},
     "output_type": "execute_result"
    }
   ],
   "source": [
    "hidden_states"
   ]
  },
  {
   "cell_type": "markdown",
   "metadata": {},
   "source": [
    "### Print trained parameters and plot"
   ]
  },
  {
   "cell_type": "code",
   "execution_count": 23,
   "metadata": {
    "collapsed": false
   },
   "outputs": [
    {
     "name": "stdout",
     "output_type": "stream",
     "text": [
      "Transition matrix\n",
      "[[  9.79217668e-01   3.55711000e-15   2.72107464e-03   1.80612577e-02]\n",
      " [  1.21578610e-12   7.73505011e-01   1.85143008e-01   4.13519812e-02]\n",
      " [  3.25251106e-03   1.12651307e-01   8.83405352e-01   6.90829241e-04]\n",
      " [  1.18930169e-01   4.20115152e-01   1.91501413e-18   4.60954680e-01]]\n",
      "\n",
      "Means and vars of each hidden state\n",
      "0th hidden state\n",
      "mean =  [  2.33386318e-02   4.97390962e+07]\n",
      "var =  [  6.97686060e-01   2.49469170e+14]\n",
      "\n",
      "1th hidden state\n",
      "mean =  [  2.12632772e-02   8.82101387e+07]\n",
      "var =  [  1.18722534e-01   5.64904675e+14]\n",
      "\n",
      "2th hidden state\n",
      "mean =  [  7.69252417e-03   5.43200602e+07]\n",
      "var =  [  5.02390623e-02   1.54646248e+14]\n",
      "\n",
      "3th hidden state\n",
      "mean =  [ -3.53843368e-01   1.53097547e+08]\n",
      "var =  [  2.55860374e+00   5.88900261e+15]\n",
      "\n"
     ]
    }
   ],
   "source": [
    "print(\"Transition matrix\")\n",
    "print(model.transmat_)\n",
    "print()\n",
    "\n",
    "print(\"Means and vars of each hidden state\")\n",
    "for i in range(model.n_components):\n",
    "    print(\"{0}th hidden state\".format(i))\n",
    "    print(\"mean = \", model.means_[i])\n",
    "    print(\"var = \", np.diag(model.covars_[i]))\n",
    "    print()\n",
    "\n",
    "fig, axs = plt.subplots(model.n_components, sharex=True, sharey=True)\n",
    "colours = cm.rainbow(np.linspace(0, 1, model.n_components))\n",
    "for i, (ax, colour) in enumerate(zip(axs, colours)):\n",
    "    # Use fancy indexing to plot data in each state.\n",
    "    mask = hidden_states == i\n",
    "    ax.plot_date(dates[mask], close_v[mask], \".-\", c=colour)\n",
    "    ax.set_title(\"{0}th hidden state\".format(i))\n",
    "\n",
    "    # Format the ticks.\n",
    "    ax.xaxis.set_major_locator(YearLocator())\n",
    "    ax.xaxis.set_minor_locator(MonthLocator())\n",
    "\n",
    "    ax.grid(True)\n",
    "\n",
    "plt.show()"
   ]
  },
  {
   "cell_type": "markdown",
   "metadata": {},
   "source": [
    "## E.G.2 Build HMM model with given parameters. \n",
    "### Infer hidden state sequence given observations X. "
   ]
  },
  {
   "cell_type": "code",
   "execution_count": 25,
   "metadata": {
    "collapsed": true
   },
   "outputs": [],
   "source": [
    "from hmmlearn import hmm"
   ]
  },
  {
   "cell_type": "code",
   "execution_count": 55,
   "metadata": {
    "collapsed": false
   },
   "outputs": [
    {
     "name": "stdout",
     "output_type": "stream",
     "text": [
      "log prob of the produced sequence: -26.3619052282\n",
      "hidden state sequence for each observation in sample X: [0 1 2 2 2 2 2 2 2 2]\n"
     ]
    }
   ],
   "source": [
    "# n_components=3 means three hidden states [0, 1, 2]\n",
    "model = hmm.MultinomialHMM(n_components=3)\n",
    "\n",
    "# start probabilities for each hidden state\n",
    "model.startprob_ = np.array([0.3, 0.4, 0.3])\n",
    "\n",
    "# transitional matrix for pair-wise hidden state\n",
    "model.transmat_ = np.array([[0.2, 0.6, 0.2],\n",
    "                            [0.4, 0.0, 0.6],\n",
    "                            [0.1, 0.2, 0.7]])\n",
    "\n",
    "# emission probability matrix for [hidden state,observation]\n",
    "model.emissionprob_ = np.array([[0.2, 0.1, 0.1, 0.1, 0.1, 0.1, 0.1, 0.1, 0.1],\n",
    "                                [0.1, 0.1, 0.1, 0.1, 0.2, 0.1, 0.1, 0.1, 0.1],\n",
    "                                [0.1, 0.1, 0.1, 0.1, 0.1, 0.1, 0.1, 0.1, 0.2]])\n",
    "\n",
    "# Predict the optimal sequence of internal hidden state\n",
    "X = np.atleast_2d([0,3,4,5,6,7,1,2,3,8]).T\n",
    "print ('log prob of the produced sequence:',model.decode(X)[0])\n",
    "print ('hidden state sequence for each observation in sample X:',model.decode(X)[1])"
   ]
  },
  {
   "cell_type": "markdown",
   "metadata": {},
   "source": [
    "### Generate sample sequence "
   ]
  },
  {
   "cell_type": "code",
   "execution_count": 63,
   "metadata": {
    "collapsed": false
   },
   "outputs": [
    {
     "name": "stdout",
     "output_type": "stream",
     "text": [
      "(100, 2)\n",
      "(100,)\n"
     ]
    }
   ],
   "source": [
    "# generate sample sequence for the HMM model\n",
    "x, z = model.sample(100)\n",
    "print (x.shape)\n",
    "print (z.shape)"
   ]
  },
  {
   "cell_type": "code",
   "execution_count": null,
   "metadata": {
    "collapsed": false
   },
   "outputs": [],
   "source": []
  },
  {
   "cell_type": "code",
   "execution_count": null,
   "metadata": {
    "collapsed": true
   },
   "outputs": [],
   "source": []
  }
 ],
 "metadata": {
  "kernelspec": {
   "display_name": "Python 2",
   "language": "python",
   "name": "python2"
  },
  "language_info": {
   "codemirror_mode": {
    "name": "ipython",
    "version": 2
   },
   "file_extension": ".py",
   "mimetype": "text/x-python",
   "name": "python",
   "nbconvert_exporter": "python",
   "pygments_lexer": "ipython2",
   "version": "2.7.5"
  }
 },
 "nbformat": 4,
 "nbformat_minor": 0
}
